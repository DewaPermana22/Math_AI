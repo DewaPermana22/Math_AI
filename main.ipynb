{
 "cells": [
  {
   "cell_type": "markdown",
   "metadata": {},
   "source": [
    "Import Library"
   ]
  },
  {
   "cell_type": "code",
   "execution_count": 207,
   "metadata": {},
   "outputs": [],
   "source": [
    "import pandas as pd\n",
    "import torch\n",
    "import accelerate\n",
    "import chardet\n",
    "from transformers import BertTokenizer, BertForSequenceClassification, Trainer, TrainingArguments\n",
    "from sklearn.model_selection import train_test_split\n",
    "from typing import Optional\n",
    "from torch.utils.data import Dataset as TorchDataset\n",
    "from typing import Optional, Dict, List\n",
    "from datasets import Dataset as HFDataset"
   ]
  },
  {
   "cell_type": "markdown",
   "metadata": {},
   "source": [
    " Initialize the dataset with texts and labels.\n",
    "        \n",
    "        Args:\n",
    "            texts: List of problem texts\n",
    "            labels: List of corresponding answers\n",
    "            tokenizer: BERT tokenizer instance\n",
    "            max_length: Maximum sequence length for padding/truncation"
   ]
  },
  {
   "cell_type": "code",
   "execution_count": null,
   "metadata": {},
   "outputs": [],
   "source": [
    "class ProbabilityModels(TorchDataset) : \n",
    "    def __init__(self, texts : List[str], labels : List[int], tokenizer: BertTokenizer, max_length: int = 128):\n",
    "        self.encodings = tokenizer(\n",
    "            texts, \n",
    "            truncation=True, \n",
    "            padding=True, \n",
    "            max_length=max_length, \n",
    "            return_tensors=\"pt\"\n",
    "        )\n",
    "        self.labels = torch.tensor(labels, dtype=torch.float)"
   ]
  },
  {
   "cell_type": "markdown",
   "metadata": {},
   "source": [
    "Custom Modeling for probability Problem"
   ]
  },
  {
   "cell_type": "code",
   "execution_count": null,
   "metadata": {},
   "outputs": [],
   "source": [
    "def __len__(self) -> int:\n",
    "    return len(self.labels)\n",
    "    \n",
    "def __getitem__(self, idx: int) -> Dict[str, torch.Tensor]:\n",
    "    item = {\n",
    "        key: val[idx] for key, val in self.encodings.items()\n",
    "    }\n",
    "    item[\"labels\"] = self.labels[idx]\n",
    "    return item\n",
    "    "
   ]
  },
  {
   "cell_type": "markdown",
   "metadata": {},
   "source": [
    "Load and prepare data for training.\n",
    "    \n",
    "    Args:\n",
    "        file_path: Path to the CSV file\n",
    "        test_size: Proportion of data to use for validation\n",
    "        random_state: Random seed for reproducibility\n",
    "    \n",
    "    Returns:\n",
    "        Tuple of (train_dataset, eval_dataset)"
   ]
  },
  {
   "cell_type": "code",
   "execution_count": null,
   "metadata": {},
   "outputs": [],
   "source": [
    "def load_and_prepare_data(\n",
    "    file_path: str,\n",
    "    test_size: float = 0.2,\n",
    "    random_state: int = 42\n",
    "\n",
    ") -> tuple[ProbabilityModels, ProbabilityModels]:"
   ]
  },
  {
   "cell_type": "code",
   "execution_count": null,
   "metadata": {},
   "outputs": [],
   "source": [
    "//"
   ]
  },
  {
   "cell_type": "code",
   "execution_count": 209,
   "metadata": {},
   "outputs": [],
   "source": [
    "data = pd.read_csv('stat_problem.csv', sep=',', encoding='cp1252')\n",
    "#print(data.head()) Head hanya menampilkan 5 Index awal"
   ]
  },
  {
   "cell_type": "code",
   "execution_count": 210,
   "metadata": {},
   "outputs": [],
   "source": [
    "data_clean = data.dropna(subset=['problem', 'answer'])\n",
    "\n",
    "problem = data_clean['problem'].tolist()\n",
    "res = data_clean['answer'].tolist()\n",
    "\n",
    "\n",
    "tokenizer = BertTokenizer.from_pretrained('bert-base-uncased')\n",
    "encoded = tokenizer(problem, padding=True, truncation=True, max_length=128, return_tensors='pt')\n",
    "\n",
    "# tokenisasi Dataset\n",
    "def tokenize_dataset(example) : \n",
    "    return tokenizer(\n",
    "        example['problem'],\n",
    "        truncation=True,\n",
    "        padding=True,\n",
    "    )\n",
    "\n",
    "\n",
    "#split dataset menjadi data eval dan data train\n",
    "\n",
    "train_text, val_text, train_label, val_label = train_test_split(\n",
    "    problem,\n",
    "    res,\n",
    "    test_size=0.2 # 20% evaluasi\n",
    ")\n"
   ]
  },
  {
   "cell_type": "markdown",
   "metadata": {},
   "source": [
    "Tokenisasi DataSplit trainText dan evalText"
   ]
  },
  {
   "cell_type": "code",
   "execution_count": 211,
   "metadata": {},
   "outputs": [],
   "source": [
    "train_encoding = tokenizer(train_text, truncation=True, padding=True, max_length=128, return_tensors=\"pt\")\n",
    "eval_encoding = tokenizer(val_text, truncation=True, padding=True, max_length=128, return_tensors=\"pt\")"
   ]
  },
  {
   "cell_type": "markdown",
   "metadata": {},
   "source": [
    "Buat dataset Torch Agar bisa di proses model BERT"
   ]
  },
  {
   "cell_type": "code",
   "execution_count": 212,
   "metadata": {},
   "outputs": [],
   "source": [
    "\n"
   ]
  },
  {
   "cell_type": "markdown",
   "metadata": {},
   "source": [
    "Load and prepare data for training.\n",
    "\n",
    "    Args:\n",
    "        file_path: Path to the CSV file\n",
    "        test_size: Proportion of data to use for validation\n",
    "        random_state: Random seed for reproducibility\n",
    "    \n",
    "    Returns:\n",
    "        Tuple of (train_dataset, eval_dataset)"
   ]
  },
  {
   "cell_type": "code",
   "execution_count": 213,
   "metadata": {},
   "outputs": [],
   "source": [
    "train_dataset = PeluangDataset(encodings=encoded, labels=res)\n",
    "eval_dataset = PeluangDataset(encodings=eval_encoding, labels=val_label)"
   ]
  },
  {
   "cell_type": "code",
   "execution_count": 214,
   "metadata": {},
   "outputs": [
    {
     "name": "stderr",
     "output_type": "stream",
     "text": [
      "Some weights of BertForSequenceClassification were not initialized from the model checkpoint at bert-base-uncased and are newly initialized: ['classifier.bias', 'classifier.weight']\n",
      "You should probably TRAIN this model on a down-stream task to be able to use it for predictions and inference.\n"
     ]
    }
   ],
   "source": [
    "# model pre Trained\n",
    "model_pretrained = BertForSequenceClassification.from_pretrained('bert-base-uncased', num_labels=2)"
   ]
  },
  {
   "cell_type": "code",
   "execution_count": 215,
   "metadata": {},
   "outputs": [
    {
     "name": "stdout",
     "output_type": "stream",
     "text": [
      "Using device: cpu\n"
     ]
    }
   ],
   "source": [
    "device = \"cuda\" if torch.cuda.is_available() else \"cpu\"\n",
    "print(f\"Using device: {device}\")"
   ]
  },
  {
   "cell_type": "markdown",
   "metadata": {},
   "source": [
    "Create Function Model Tunning"
   ]
  },
  {
   "cell_type": "code",
   "execution_count": null,
   "metadata": {},
   "outputs": [],
   "source": [
    "def setup_training(\n",
    "    model,\n",
    "    tokenizer,\n",
    "    train_dataset: Dataset,\n",
    "    eval_dataset: Optional[Dataset] = None, \n",
    "    output_dir: str = './output',\n",
    "    num_epochs: int = 3,\n",
    "    batch_size: int = 8,\n",
    "    learning_rate: float = 5e-5,\n",
    "    weight_decay: float = 0.1\n",
    "):  \n",
    "    pass"
   ]
  },
  {
   "cell_type": "markdown",
   "metadata": {},
   "source": [
    "Validate Input"
   ]
  },
  {
   "cell_type": "code",
   "execution_count": null,
   "metadata": {},
   "outputs": [],
   "source": [
    "if not isinstance(train_dataset, Dataset):\n",
    "        raise ValueError(\"train_dataset must be a Hugging Face Dataset\")\n",
    "if eval_dataset is not None and not isinstance(eval_dataset, Dataset):\n",
    "        raise ValueError(\"eval_dataset must be a Hugging Face Dataset\")"
   ]
  },
  {
   "cell_type": "code",
   "execution_count": null,
   "metadata": {},
   "outputs": [],
   "source": [
    "# set fine tuning models\n",
    "training_args = TrainingArguments(\n",
    "    output_dir='./output',\n",
    "    eval_strategy=\"epoch\",\n",
    "    learning_rate=5e-5,\n",
    "    per_device_train_batch_size=8,\n",
    "    per_device_eval_batch_size=8,\n",
    "    num_train_epochs=3,\n",
    "    weight_decay=0.1,\n",
    "    logging_dir='./logs',\n",
    "    logging_steps=10,\n",
    "    no_cuda=device== \"cpu\"\n",
    ")\n",
    "\n",
    "trainer = Trainer(\n",
    "    model=model_pretrained,\n",
    "    args=training_args,\n",
    "    train_dataset=train_dataset,\n",
    "    eval_dataset=eval_dataset,\n",
    "    tokenizer=tokenizer\n",
    ")\n",
    "\n",
    "trainer.train()"
   ]
  }
 ],
 "metadata": {
  "kernelspec": {
   "display_name": "Python 3",
   "language": "python",
   "name": "python3"
  },
  "language_info": {
   "codemirror_mode": {
    "name": "ipython",
    "version": 3
   },
   "file_extension": ".py",
   "mimetype": "text/x-python",
   "name": "python",
   "nbconvert_exporter": "python",
   "pygments_lexer": "ipython3",
   "version": "3.10.11"
  }
 },
 "nbformat": 4,
 "nbformat_minor": 2
}
