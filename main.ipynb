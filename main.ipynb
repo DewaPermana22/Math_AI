{
 "cells": [
  {
   "cell_type": "markdown",
   "metadata": {},
   "source": [
    "Import Library"
   ]
  },
  {
   "cell_type": "code",
   "execution_count": 10,
   "metadata": {},
   "outputs": [],
   "source": [
    "import pandas as pd\n",
    "import chardet"
   ]
  },
  {
   "cell_type": "code",
   "execution_count": 11,
   "metadata": {},
   "outputs": [
    {
     "name": "stdout",
     "output_type": "stream",
     "text": [
      "{'encoding': 'Windows-1252', 'confidence': 0.73, 'language': ''}\n"
     ]
    }
   ],
   "source": [
    "with open('stat_problem.csv', 'rb') as file:\n",
    "    result = chardet.detect(file.read())\n",
    "    print(result)"
   ]
  },
  {
   "cell_type": "code",
   "execution_count": 12,
   "metadata": {},
   "outputs": [
    {
     "name": "stdout",
     "output_type": "stream",
     "text": [
      "                                             problem        answer\n",
      "0  Alice has 2 kids and one of them is a girl. Wh...  3.330000e-01\n",
      "1  A fair six-sided die is rolled twice. What is ...  1.388889e-01\n",
      "2  Consider a tetrahedral , A tetrahedral die has...  3.750000e-01\n",
      "3  Anita randomly picks 4 cards from a deck of 52...  5.271878e+10\n",
      "4  If you dealt 13 cards, what is the probability...  7.692308e-02\n"
     ]
    }
   ],
   "source": [
    "data = pd.read_csv('stat_problem.csv', sep=',', encoding='cp1252')\n",
    "print(data.head()) #Head hanya menampilkan 5 Index awal"
   ]
  },
  {
   "cell_type": "code",
   "execution_count": null,
   "metadata": {},
   "outputs": [],
   "source": [
    "from transformers import BertTokenizer, BertForSequenceClassification\n",
    "from torch"
   ]
  }
 ],
 "metadata": {
  "kernelspec": {
   "display_name": "Python 3",
   "language": "python",
   "name": "python3"
  },
  "language_info": {
   "codemirror_mode": {
    "name": "ipython",
    "version": 3
   },
   "file_extension": ".py",
   "mimetype": "text/x-python",
   "name": "python",
   "nbconvert_exporter": "python",
   "pygments_lexer": "ipython3",
   "version": "3.10.11"
  }
 },
 "nbformat": 4,
 "nbformat_minor": 2
}
